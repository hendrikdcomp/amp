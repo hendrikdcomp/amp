{
 "cells": [
  {
   "cell_type": "markdown",
   "metadata": {},
   "source": [
    "# Tarefa 03a - Competição https://www.kaggle.com/c/cifar-10\n",
    "\n",
    "## Referência para esta tarefa: seção 13.13 de [Dive into Deep Learning](https://d2l.ai/index.html)\n",
    "\n",
    "## O que deve ser feito:\n",
    "* Uso do dataset CIFAR-10 completo.\n",
    "* Alteração do `batch_size` e `num_epochs` para 128 e 100, respectivamente. \n",
    "* Alteração da rede neuronal para a ResNet-34.\n",
    "* Comparar as acurácias obtidas com a do livro. "
   ]
  },
  {
   "cell_type": "code",
   "execution_count": null,
   "metadata": {},
   "outputs": [],
   "source": [
    "### SUA IMPLEMENTAÇÃO AQUI\n",
    "\n",
    "# Importar pacotes\n",
    "\n",
    "#...."
   ]
  },
  {
   "cell_type": "markdown",
   "metadata": {},
   "source": [
    "# Tarefa 03b - Competição https://www.kaggle.com/c/dog-breed-identification\n",
    "\n",
    "## Referência para esta tarefa: seção 13.14 de [Dive into Deep Learning](https://d2l.ai/index.html)\n",
    "### Obs: esta tarefa faz uso de transferência de aprendizado (_fine tuning_)\n",
    "\n",
    "## O que deve ser feito:\n",
    "* Uso do dataset completo.\n",
    "* Aumento do `batch_size` e `num_epochs`. \n",
    "* Alteração da rede neuronal pré-treinada para alguma mais profunda (ver opções em https://cv.gluon.ai/model_zoo/classification.html)\n",
    "* Comparar as acurácias obtidas com a do livro."
   ]
  },
  {
   "cell_type": "code",
   "execution_count": null,
   "metadata": {},
   "outputs": [],
   "source": [
    "### SUA IMPLEMENTAÇÃO AQUI\n",
    "\n",
    "# Importar pacotes\n",
    "\n",
    "#...."
   ]
  }
 ],
 "metadata": {
  "kernelspec": {
   "display_name": "Python 3",
   "language": "python",
   "name": "python3"
  },
  "language_info": {
   "codemirror_mode": {
    "name": "ipython",
    "version": 3
   },
   "file_extension": ".py",
   "mimetype": "text/x-python",
   "name": "python",
   "nbconvert_exporter": "python",
   "pygments_lexer": "ipython3",
   "version": "3.9.2"
  },
  "toc": {
   "base_numbering": 1,
   "nav_menu": {},
   "number_sections": true,
   "sideBar": true,
   "skip_h1_title": false,
   "title_cell": "Table of Contents",
   "title_sidebar": "Contents",
   "toc_cell": false,
   "toc_position": {},
   "toc_section_display": true,
   "toc_window_display": false
  }
 },
 "nbformat": 4,
 "nbformat_minor": 2
}
