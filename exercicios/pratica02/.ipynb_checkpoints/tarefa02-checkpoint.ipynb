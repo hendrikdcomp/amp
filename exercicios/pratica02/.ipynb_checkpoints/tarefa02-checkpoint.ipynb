{
 "cells": [
  {
   "cell_type": "markdown",
   "metadata": {},
   "source": [
    "# Tarefa 02   "
   ]
  },
  {
   "cell_type": "markdown",
   "metadata": {},
   "source": [
    "## Modificar treinamento ref. _House Prices_\n",
    "\n",
    "1. Modificar o modelo para MLP\n",
    "2. Realizar ajuste de hiperparâmetros com uso de validação cruzada k-fold: valor de k, num de épocas, taxa de aprendizado, peso da regularização, tamanho do batch, número de camadas, neurônios por camada, dropout nas camadas, funções de ativação, etc..."
   ]
  },
  {
   "cell_type": "code",
   "execution_count": null,
   "metadata": {},
   "outputs": [],
   "source": [
    "### SUA IMPLEMENTAÇÃO AQUI\n",
    "\n",
    "# Importar pacotes\n",
    "\n",
    "# etc..."
   ]
  }
 ],
 "metadata": {
  "anaconda-cloud": {},
  "kernelspec": {
   "display_name": "Python 3",
   "language": "python",
   "name": "python3"
  },
  "language_info": {
   "codemirror_mode": {
    "name": "ipython",
    "version": 3
   },
   "file_extension": ".py",
   "mimetype": "text/x-python",
   "name": "python",
   "nbconvert_exporter": "python",
   "pygments_lexer": "ipython3",
   "version": "3.8.8"
  }
 },
 "nbformat": 4,
 "nbformat_minor": 2
}
