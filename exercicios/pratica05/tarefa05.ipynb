{
 "cells": [
  {
   "cell_type": "markdown",
   "metadata": {},
   "source": [
    "# Tarefa 05 - Análise de Sentimento\n",
    "\n",
    "## Baseando-se no roteiro das seções 15.1 e 15.2 do livro-texto, treine um modelo capaz de classificar o sentimento de um texto em PtBR\n",
    "1. Procure um dataset para esta tarefa em PtBR. Ex. busca: _datasets análise sentimento português_\n",
    "2. Arquitetura de rede recorrente. Ex. BiLSTM\n",
    "3. Usar word embeddings pré-treinados. O NILC disponibiliza alguns: http://nilc.icmc.usp.br/nilc/index.php/repositorio-de-word-embeddings-do-nilc\n",
    "4. Treinar e avaliar o modelo"
   ]
  },
  {
   "cell_type": "code",
   "execution_count": null,
   "metadata": {},
   "outputs": [],
   "source": [
    "### SUA IMPLEMENTAÇÃO AQUI\n",
    "\n",
    "# Importar pacotes\n",
    "\n",
    "#...."
   ]
  }
 ],
 "metadata": {
  "kernelspec": {
   "display_name": "Python 3",
   "language": "python",
   "name": "python3"
  },
  "language_info": {
   "codemirror_mode": {
    "name": "ipython",
    "version": 3
   },
   "file_extension": ".py",
   "mimetype": "text/x-python",
   "name": "python",
   "nbconvert_exporter": "python",
   "pygments_lexer": "ipython3",
   "version": "3.7.10"
  },
  "toc": {
   "base_numbering": 1,
   "nav_menu": {},
   "number_sections": true,
   "sideBar": true,
   "skip_h1_title": false,
   "title_cell": "Table of Contents",
   "title_sidebar": "Contents",
   "toc_cell": false,
   "toc_position": {},
   "toc_section_display": true,
   "toc_window_display": false
  }
 },
 "nbformat": 4,
 "nbformat_minor": 2
}
