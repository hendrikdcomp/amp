{
 "cells": [
  {
   "cell_type": "markdown",
   "metadata": {},
   "source": [
    "# Tarefa 04 - LSTM\n",
    "\n",
    "## 4a. Modifique o modelo LSTM visto.\n",
    "1. Escolha outro(s) texto(s) para montagem do _corpus_$^{(i)}$ \n",
    "2. Use tokenização com palavras ao invés de caracteres$^{(ii)}$\n",
    "3. Gere o gráfico da perplexidade como de costume\n",
    "4. Crie um previsor para gerar a continuação de um texto/frase dado\n",
    "\n",
    "\n",
    "\n",
    "## 4b. Adapte o modelo LSTM para...\n",
    "1. ... prever próximo valor de uma série temporal$^{(iii)}$\n",
    "\n",
    "   \n",
    "_$(i)$ Tente agregar vários livros, por exemplo, para aumentar qualidade do modelo. Tentar usar textos em PtBR para montagem do corpus também é uma bela iniciativa (ex. fonte: http://www.dominiopublico.gov.br/)._   \n",
    "\n",
    "_$(ii)$ Para essas modificações/adaptações, é possível que você tenha que lidar/modificar algumas funções do aux.py (ex. função `load_corpus_time_machine(...)`)_   \n",
    "\n",
    "_$(iii)$ Exemplo do MXNET v. 1.7 para séries temporais com LSTM: https://mxnet.apache.org/versions/1.7.0/api/r/docs/tutorials/multi_dim_lstm_    "
   ]
  },
  {
   "cell_type": "markdown",
   "metadata": {},
   "source": [
    "# 4a"
   ]
  },
  {
   "cell_type": "code",
   "execution_count": null,
   "metadata": {},
   "outputs": [],
   "source": [
    "### SUA IMPLEMENTAÇÃO 4a. AQUI\n",
    "\n",
    "# Importar pacotes\n",
    "\n",
    "#...."
   ]
  },
  {
   "cell_type": "markdown",
   "metadata": {},
   "source": [
    "# 4b"
   ]
  },
  {
   "cell_type": "code",
   "execution_count": null,
   "metadata": {},
   "outputs": [],
   "source": [
    "### SUA IMPLEMENTAÇÃO 4b. AQUI\n",
    "\n",
    "# Importar pacotes\n",
    "\n",
    "#...."
   ]
  }
 ],
 "metadata": {
  "kernelspec": {
   "display_name": "Python 3",
   "language": "python",
   "name": "python3"
  },
  "language_info": {
   "codemirror_mode": {
    "name": "ipython",
    "version": 3
   },
   "file_extension": ".py",
   "mimetype": "text/x-python",
   "name": "python",
   "nbconvert_exporter": "python",
   "pygments_lexer": "ipython3",
   "version": "3.7.10"
  },
  "toc": {
   "base_numbering": 1,
   "nav_menu": {},
   "number_sections": true,
   "sideBar": true,
   "skip_h1_title": false,
   "title_cell": "Table of Contents",
   "title_sidebar": "Contents",
   "toc_cell": false,
   "toc_position": {},
   "toc_section_display": true,
   "toc_window_display": false
  }
 },
 "nbformat": 4,
 "nbformat_minor": 2
}
